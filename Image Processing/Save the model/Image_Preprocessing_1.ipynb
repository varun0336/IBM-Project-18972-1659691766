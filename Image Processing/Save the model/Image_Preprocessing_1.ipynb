{
  "nbformat": 4,
  "nbformat_minor": 0,
  "metadata": {
    "colab": {
      "provenance": []
    },
    "kernelspec": {
      "name": "python3",
      "display_name": "Python 3"
    },
    "language_info": {
      "name": "python"
    },
    "accelerator": "GPU"
  },
  "cells": [
    {
      "cell_type": "markdown",
      "source": [
        "# **Import The Image data Generator**"
      ],
      "metadata": {
        "id": "2CWv7Ir73rYq"
      }
    },
    {
      "cell_type": "code",
      "source": [
        "from tensorflow.keras.preprocessing.image import ImageDataGenerator"
      ],
      "metadata": {
        "id": "eORDYn7vWWhO"
      },
      "execution_count": null,
      "outputs": []
    },
    {
      "cell_type": "markdown",
      "source": [
        "# **Confiqure Image Data Generator Class**"
      ],
      "metadata": {
        "id": "PzAprQf-CHGw"
      }
    },
    {
      "cell_type": "code",
      "source": [
        "train_datagen = ImageDataGenerator(rescale = 1./255,shear_range = 0.2,zoom_range = 0.2,horizontal_flip = True)\n",
        "test_datagen = ImageDataGenerator(rescale = 1./255)"
      ],
      "metadata": {
        "id": "xaJsYKu0WXNC"
      },
      "execution_count": null,
      "outputs": []
    },
    {
      "cell_type": "markdown",
      "source": [
        "# **Apply Image Data Generator Functionality To Trainset and Testset**"
      ],
      "metadata": {
        "id": "1BuD3r9M4HDS"
      }
    },
    {
      "cell_type": "code",
      "source": [
        "x_train = train_datagen.flow_from_directory(\"/content/data/train\",target_size = (64,64),batch_size = 32,class_mode = \"categorical\")\n",
        "x_test = test_datagen.flow_from_directory(\"/content/data/test\",target_size = (64,64),batch_size = 32,class_mode = \"categorical\")"
      ],
      "metadata": {
        "colab": {
          "base_uri": "https://localhost:8080/"
        },
        "id": "5NvGzwGsWaq6",
        "outputId": "809ecb35-d587-4f7f-90cc-f032c1e057d2"
      },
      "execution_count": null,
      "outputs": [
        {
          "output_type": "stream",
          "name": "stdout",
          "text": [
            "Found 15341 images belonging to 6 classes.\n",
            "Found 6825 images belonging to 6 classes.\n"
          ]
        }
      ]
    }
  ]
}